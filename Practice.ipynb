{
 "cells": [
  {
   "cell_type": "code",
   "execution_count": 1,
   "id": "75ce61df",
   "metadata": {},
   "outputs": [],
   "source": [
    "my_string = 'sfsdfgdsfgdsfgdgdfg'"
   ]
  },
  {
   "cell_type": "code",
   "execution_count": 2,
   "id": "0004ea74",
   "metadata": {},
   "outputs": [
    {
     "name": "stdout",
     "output_type": "stream",
     "text": [
      "sfdfgdsfgdsfgdgdfg\n"
     ]
    }
   ],
   "source": [
    "print(my_string)"
   ]
  },
  {
   "cell_type": "code",
   "execution_count": 3,
   "id": "29154061",
   "metadata": {},
   "outputs": [
    {
     "name": "stdout",
     "output_type": "stream",
     "text": [
      "sfdf\n"
     ]
    }
   ],
   "source": [
    "print(my_string[0:4])"
   ]
  },
  {
   "cell_type": "code",
   "execution_count": 4,
   "id": "7438415c",
   "metadata": {},
   "outputs": [],
   "source": [
    "numbers_str='1234567'"
   ]
  },
  {
   "cell_type": "code",
   "execution_count": 5,
   "id": "7ee2e68e",
   "metadata": {},
   "outputs": [
    {
     "data": {
      "text/plain": [
       "'1'"
      ]
     },
     "execution_count": 5,
     "metadata": {},
     "output_type": "execute_result"
    }
   ],
   "source": [
    "numbers_str[0]"
   ]
  },
  {
   "cell_type": "code",
   "execution_count": 14,
   "id": "8b3801b4",
   "metadata": {},
   "outputs": [],
   "source": [
    "my_int = 456"
   ]
  },
  {
   "cell_type": "code",
   "execution_count": 16,
   "id": "6157d70b",
   "metadata": {},
   "outputs": [
    {
     "data": {
      "text/plain": [
       "int"
      ]
     },
     "execution_count": 16,
     "metadata": {},
     "output_type": "execute_result"
    }
   ],
   "source": [
    "(type(my_int))"
   ]
  },
  {
   "cell_type": "code",
   "execution_count": 17,
   "id": "06e27e54",
   "metadata": {},
   "outputs": [
    {
     "data": {
      "text/plain": [
       "float"
      ]
     },
     "execution_count": 17,
     "metadata": {},
     "output_type": "execute_result"
    }
   ],
   "source": [
    "type((my_int/4)*4)"
   ]
  },
  {
   "cell_type": "code",
   "execution_count": 21,
   "id": "a9aee460",
   "metadata": {},
   "outputs": [
    {
     "data": {
      "text/plain": [
       "65.14285714285714"
      ]
     },
     "execution_count": 21,
     "metadata": {},
     "output_type": "execute_result"
    }
   ],
   "source": [
    "my_int/7"
   ]
  },
  {
   "cell_type": "code",
   "execution_count": 23,
   "id": "1dfe157d",
   "metadata": {},
   "outputs": [
    {
     "data": {
      "text/plain": [
       "(1, 0, 0)"
      ]
     },
     "execution_count": 23,
     "metadata": {},
     "output_type": "execute_result"
    }
   ],
   "source": [
    "1,000,000"
   ]
  },
  {
   "cell_type": "code",
   "execution_count": 39,
   "id": "9a0e7458",
   "metadata": {},
   "outputs": [],
   "source": [
    "my_tup = (1,3.17,6,'sdfsadfsaf','bob','bob',65,'bob')"
   ]
  },
  {
   "cell_type": "code",
   "execution_count": 92,
   "id": "b669434e",
   "metadata": {},
   "outputs": [
    {
     "ename": "ValueError",
     "evalue": "tuple.index(x): x not in tuple",
     "output_type": "error",
     "traceback": [
      "\u001b[1;31m---------------------------------------------------------------------------\u001b[0m",
      "\u001b[1;31mValueError\u001b[0m                                Traceback (most recent call last)",
      "Cell \u001b[1;32mIn[92], line 5\u001b[0m\n\u001b[0;32m      1\u001b[0m \u001b[38;5;66;03m#len(my_tup)  #Returns the length of the tuple.\u001b[39;00m\n\u001b[0;32m      2\u001b[0m \n\u001b[0;32m      3\u001b[0m \u001b[38;5;66;03m#my_tup[5] #Accesses the element at the specified index.\u001b[39;00m\n\u001b[0;32m      4\u001b[0m \u001b[38;5;66;03m#my_tup.count('bob') # Returns the number of occurrences of a value in the tuple.\u001b[39;00m\n\u001b[1;32m----> 5\u001b[0m \u001b[43mmy_tup\u001b[49m\u001b[38;5;241;43m.\u001b[39;49m\u001b[43mindex\u001b[49m\u001b[43m(\u001b[49m\u001b[38;5;124;43m'\u001b[39;49m\u001b[38;5;124;43mbob\u001b[39;49m\u001b[38;5;124;43m'\u001b[39;49m\u001b[43m,\u001b[49m\u001b[38;5;241;43m0\u001b[39;49m\u001b[43m,\u001b[49m\u001b[38;5;241;43m3\u001b[39;49m\u001b[43m)\u001b[49m \u001b[38;5;66;03m# Returns the index of the first occurrence of a value in the tuple (optional start and end parameters limit the search range)\u001b[39;00m\n",
      "\u001b[1;31mValueError\u001b[0m: tuple.index(x): x not in tuple"
     ]
    }
   ],
   "source": [
    "#len(my_tup)  #Returns the length of the tuple.\n",
    "\n",
    "#my_tup[5] #Accesses the element at the specified index.\n",
    "#my_tup.count('bob') # Returns the number of occurrences of a value in the tuple.\n",
    "my_tup.index('bob',0,3) # Returns the index of the first occurrence of a value in the tuple (optional start and end parameters limit the search range)\n"
   ]
  },
  {
   "cell_type": "markdown",
   "id": "16bb9ccb",
   "metadata": {},
   "source": [
    "this is a practice thing in jupyter notebooks"
   ]
  },
  {
   "cell_type": "code",
   "execution_count": 47,
   "id": "d9bb1098",
   "metadata": {},
   "outputs": [],
   "source": [
    "my_list = [1,6,9,1.11,5,'fsadfasdf',3.17]"
   ]
  },
  {
   "cell_type": "code",
   "execution_count": 57,
   "id": "177294c0",
   "metadata": {},
   "outputs": [
    {
     "data": {
      "text/plain": [
       "'\\nlist.index(item[, start[, end]]): Returns the index of the first occurrence of an item within a specified range.\\nlist.count(item): Returns the number of occurrences of an item in the list.\\nlist.sort(key=None, reverse=False): Sorts the items in the list in ascending order. Optional parameters can be used for custom sorting.\\nlist.reverse(): Reverses the order of the items in the list. \\n'"
      ]
     },
     "execution_count": 57,
     "metadata": {},
     "output_type": "execute_result"
    }
   ],
   "source": [
    "#test=len(my_list) # Returns the length of the list.\n",
    "\n",
    "\n",
    "#my_list.append('hello world') #Adds an item to the end of the list.\n",
    "\n",
    "#my_list.insert(4, \"new item\") #Inserts an item at a specific index in the list.\n",
    "\n",
    "\n",
    "#my_list.extend(['new','list','items']) #Appends all items from an iterable (such as another list) to the end of the list..\n",
    "\n",
    "el_five = my_list.pop(8) #Removes and returns the item at the specified index. If no index is specified, it removes and returns the last item.\n",
    "'''\n",
    "list.index(item[, start[, end]]): Returns the index of the first occurrence of an item within a specified range.\n",
    "list.count(item): Returns the number of occurrences of an item in the list.\n",
    "list.sort(key=None, reverse=False): Sorts the items in the list in ascending order. Optional parameters can be used for custom sorting.\n",
    "list.reverse(): Reverses the order of the items in the list. \n",
    "'''"
   ]
  },
  {
   "cell_type": "code",
   "execution_count": 59,
   "id": "8ba95982",
   "metadata": {},
   "outputs": [
    {
     "name": "stdout",
     "output_type": "stream",
     "text": [
      "[1, 6, 9, 1.11, 'new item', 'fsadfasdf', 3.17, 'hello world', 'list', 'items']\n"
     ]
    }
   ],
   "source": [
    "print(my_list)"
   ]
  },
  {
   "cell_type": "code",
   "execution_count": 58,
   "id": "06f09b48",
   "metadata": {},
   "outputs": [
    {
     "data": {
      "text/plain": [
       "'new'"
      ]
     },
     "execution_count": 58,
     "metadata": {},
     "output_type": "execute_result"
    }
   ],
   "source": [
    "el_five"
   ]
  },
  {
   "cell_type": "code",
   "execution_count": 60,
   "id": "8cdb1aa7",
   "metadata": {},
   "outputs": [],
   "source": [
    "my_json = {'first name':'Jill','last name':'Thompson','age':31,'hair':'red','dob':'1989-09-29'}"
   ]
  },
  {
   "cell_type": "code",
   "execution_count": 73,
   "id": "106b70ac",
   "metadata": {},
   "outputs": [
    {
     "data": {
      "text/plain": [
       "dict_values(['Jill', 'Thompson', 32, '1989-09-29'])"
      ]
     },
     "execution_count": 73,
     "metadata": {},
     "output_type": "execute_result"
    }
   ],
   "source": [
    "#len(my_json) # Returns the number of key-value pairs in the dictionary.\n",
    "\n",
    "#my_json['dob'] #: Accesses the value associated with the specified key.\n",
    "#my_json['age'] = 32 #Adds or updates a key-value pair.\n",
    "#del my_json['hair'] #: Deletes the key-value pair with the specified key.\n",
    "#my_json.keys() #: Returns a view object of all keys in the dictionary.\n",
    "my_json.values() # Returns a view object of all values in the dictionary.\n",
    "#dict.items(): Returns a view object of all key-value pairs in the dictionary.\n"
   ]
  },
  {
   "cell_type": "code",
   "execution_count": 70,
   "id": "394efebe",
   "metadata": {},
   "outputs": [
    {
     "data": {
      "text/plain": [
       "{'first name': 'Jill', 'last name': 'Thompson', 'age': 32, 'dob': '1989-09-29'}"
      ]
     },
     "execution_count": 70,
     "metadata": {},
     "output_type": "execute_result"
    }
   ],
   "source": [
    "my_json"
   ]
  },
  {
   "cell_type": "code",
   "execution_count": 77,
   "id": "fef440ca",
   "metadata": {},
   "outputs": [
    {
     "data": {
      "text/plain": [
       "[9, 1.11, 'new item', 'fsadfasdf', 3.17]"
      ]
     },
     "execution_count": 77,
     "metadata": {},
     "output_type": "execute_result"
    }
   ],
   "source": [
    "my_list[2:7]"
   ]
  },
  {
   "cell_type": "markdown",
   "id": "04a201d3",
   "metadata": {},
   "source": [
    "Let's say I want to do division on an integer\n",
    "But I don't want it to have the default behaviour of returning a float, if the other integer goes into it evenly\n",
    "If it doesn't go into it evenly then it should return a float"
   ]
  },
  {
   "cell_type": "code",
   "execution_count": 85,
   "id": "3bdebd40",
   "metadata": {},
   "outputs": [
    {
     "name": "stdout",
     "output_type": "stream",
     "text": [
      "3\n"
     ]
    }
   ],
   "source": [
    "if 6%2 == 0:\n",
    "    print(int(6/2))\n",
    "else:\n",
    "    print(6/2)"
   ]
  },
  {
   "cell_type": "code",
   "execution_count": 86,
   "id": "2c4f9e0d",
   "metadata": {},
   "outputs": [],
   "source": [
    "def int_or_float_div(int1,int2):\n",
    "    if int1%int2 == 0:\n",
    "        return int(int1/int2)\n",
    "    else:\n",
    "        return int1/int2"
   ]
  },
  {
   "cell_type": "code",
   "execution_count": 90,
   "id": "087ad6a7",
   "metadata": {},
   "outputs": [
    {
     "data": {
      "text/plain": [
       "3.3333333333333335"
      ]
     },
     "execution_count": 90,
     "metadata": {},
     "output_type": "execute_result"
    }
   ],
   "source": [
    "int_or_float_div(10,3)"
   ]
  },
  {
   "cell_type": "code",
   "execution_count": 93,
   "id": "8462e708",
   "metadata": {},
   "outputs": [],
   "source": [
    "def el_in_tup(el,tup):\n",
    "    try:\n",
    "        return tup.index(el)\n",
    "    except Exception:\n",
    "        None\n",
    "        "
   ]
  },
  {
   "cell_type": "code",
   "execution_count": 101,
   "id": "7e8c56dd",
   "metadata": {},
   "outputs": [
    {
     "name": "stdout",
     "output_type": "stream",
     "text": [
      "i can't find that element\n"
     ]
    }
   ],
   "source": [
    "el_in_tup('tom',my_tup)"
   ]
  },
  {
   "cell_type": "code",
   "execution_count": 96,
   "id": "304ac51a",
   "metadata": {},
   "outputs": [
    {
     "data": {
      "text/plain": [
       "(1, 3.17, 6, 'sdfsadfsaf', 'bob', 'bob', 65, 'bob')"
      ]
     },
     "execution_count": 96,
     "metadata": {},
     "output_type": "execute_result"
    }
   ],
   "source": [
    "my_tup"
   ]
  },
  {
   "cell_type": "code",
   "execution_count": null,
   "id": "cba5e78e",
   "metadata": {},
   "outputs": [],
   "source": []
  }
 ],
 "metadata": {
  "kernelspec": {
   "display_name": "Python 3 (ipykernel)",
   "language": "python",
   "name": "python3"
  },
  "language_info": {
   "codemirror_mode": {
    "name": "ipython",
    "version": 3
   },
   "file_extension": ".py",
   "mimetype": "text/x-python",
   "name": "python",
   "nbconvert_exporter": "python",
   "pygments_lexer": "ipython3",
   "version": "3.11.4"
  }
 },
 "nbformat": 4,
 "nbformat_minor": 5
}
