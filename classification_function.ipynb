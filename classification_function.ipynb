{
 "cells": [
  {
   "cell_type": "code",
   "execution_count": 3,
   "id": "1ef35eb2",
   "metadata": {},
   "outputs": [
    {
     "ename": "ModuleNotFoundError",
     "evalue": "No module named 'classification_function'",
     "output_type": "error",
     "traceback": [
      "\u001b[1;31m---------------------------------------------------------------------------\u001b[0m",
      "\u001b[1;31mModuleNotFoundError\u001b[0m                       Traceback (most recent call last)",
      "Cell \u001b[1;32mIn[3], line 1\u001b[0m\n\u001b[1;32m----> 1\u001b[0m \u001b[38;5;28;01mfrom\u001b[39;00m \u001b[38;5;21;01mclassification_function\u001b[39;00m \u001b[38;5;28;01mimport\u001b[39;00m classify_text \n",
      "\u001b[1;31mModuleNotFoundError\u001b[0m: No module named 'classification_function'"
     ]
    }
   ],
   "source": [
    "'''\n",
    "from transformers import AutoTokenizer, AutoModelForSequenceClassification\n",
    "\n",
    "tokenizer = AutoTokenizer.from_pretrained(\"jonaskoenig/topic_classification_04\")\n",
    "model = AutoModelForSequenceClassification.from_pretrained(\"jonaskoenig/topic_classification_04\", from_tf=True)\n",
    "\n",
    "def classify_text(some_text):\n",
    "  classifications = {0: 'society and culture', 1:'Science', 2:'Health', 3:'education', 4:'Computers and Internet', 5:'sports', 6:'Finance', 7: 'Entertainment and Music', 8:'Family and Relationships', 9:'Politics and Government'}\n",
    "  inputs = tokenizer.encode_plus(some_text, padding=\"longest\", truncation=True, return_tensors=\"pt\")\n",
    "  outputs = model(**inputs)\n",
    "  logits = outputs.logits\n",
    "  probabilities = logits.softmax(dim=1)\n",
    "  max_index = list((probabilities[0])).index(max(list((probabilities[0]))))\n",
    "  return classifications[max_index]\n",
    "  '''"
   ]
  },
  {
   "cell_type": "code",
   "execution_count": null,
   "id": "46d7fd89",
   "metadata": {},
   "outputs": [],
   "source": [
    "def arithmetic(num1,num2):\n",
    "    return num1+num2"
   ]
  }
 ],
 "metadata": {
  "kernelspec": {
   "display_name": "Python 3 (ipykernel)",
   "language": "python",
   "name": "python3"
  },
  "language_info": {
   "codemirror_mode": {
    "name": "ipython",
    "version": 3
   },
   "file_extension": ".py",
   "mimetype": "text/x-python",
   "name": "python",
   "nbconvert_exporter": "python",
   "pygments_lexer": "ipython3",
   "version": "3.11.4"
  }
 },
 "nbformat": 4,
 "nbformat_minor": 5
}
