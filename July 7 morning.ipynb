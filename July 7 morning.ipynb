{
 "cells": [
  {
   "cell_type": "code",
   "execution_count": 1,
   "id": "c782efc2",
   "metadata": {},
   "outputs": [],
   "source": [
    "import pandas as pd\n",
    "import numpy as np\n",
    "import matplotlib.pyplot as plt"
   ]
  },
  {
   "cell_type": "code",
   "execution_count": 20,
   "id": "43f05d92",
   "metadata": {},
   "outputs": [],
   "source": [
    "\n",
    "#We're getting data as some JSON, we've made it a pandas df\n",
    "#could be any number of rows, any number of columns, there's a lack of structure to what we might get\n",
    "#let's say it's a financial setting,\n",
    "# we want an algorithm that can find innaprorpriate strings mixed in with quantitative data\n",
    "# let's say \"fifty-thousand\" is mixed in with 1000, 25000,60000: [1000, 25000,\"fifty-thousand\",60000]\n",
    "\n",
    "\n",
    "#one way to iterate through a dataframe\n",
    "\n",
    " #first establish the first column to iterate through\n",
    "#working_column = 0\n",
    "    #Have for loop that goes through all the columns\n",
    "def check_for_unusual_values(df):\n",
    "    import re\n",
    "\n",
    "    def contains_non_numeric(string):\n",
    "        pattern = r'[^0-9,.]'\n",
    "        return re.search(pattern, string) is not None\n",
    "       \n",
    "    for column in range(0,(df.shape[1])):\n",
    "    #Check if column is maybe meant to be quantitative\n",
    "        if df[df.columns[column]].dtype==object:\n",
    "            #Next we need to check if the column is meant to be qauntitative\n",
    "            print(\"found a string\")\n",
    "            #THEN go into for loop going down through all rows in that column\n",
    "            for row in range(0, (df.shape[0])):\n",
    "                try:                   \n",
    "                    if contains_non_numeric(df.iloc[row][column])==True:\n",
    "                #print(\"unusual value detected at \"+str(row)+\",\"+str(column))\n",
    "                        print(f\"unusual value detected at {row},{column}: {df.iloc[row][column]}\")\n",
    "                except Exception:\n",
    "                    pass"
   ]
  },
  {
   "cell_type": "code",
   "execution_count": 39,
   "id": "8a811f36",
   "metadata": {},
   "outputs": [
    {
     "name": "stdout",
     "output_type": "stream",
     "text": [
      "<class 'pandas.core.frame.DataFrame'>\n",
      "RangeIndex: 6 entries, 0 to 5\n",
      "Data columns (total 3 columns):\n",
      " #   Column    Non-Null Count  Dtype  \n",
      "---  ------    --------------  -----  \n",
      " 0   column 1  6 non-null      float64\n",
      " 1   column 2  6 non-null      float64\n",
      " 2   column 3  6 non-null      object \n",
      "dtypes: float64(2), object(1)\n",
      "memory usage: 276.0+ bytes\n",
      "<class 'pandas.core.frame.DataFrame'>\n",
      "RangeIndex: 6 entries, 0 to 5\n",
      "Data columns (total 3 columns):\n",
      " #   Column    Non-Null Count  Dtype  \n",
      "---  ------    --------------  -----  \n",
      " 0   column 1  6 non-null      float64\n",
      " 1   column 2  6 non-null      float64\n",
      " 2   column 3  6 non-null      object \n",
      "dtypes: float64(2), object(1)\n",
      "memory usage: 276.0+ bytes\n"
     ]
    }
   ],
   "source": [
    "my_json = {'column 1':[1,3,5.5,6.7,7,9.12],'column 2':[5,6,7,8.19,7.17,8],'column 3':[1,4,'fifty-five',3,4,6]}\n",
    "my_data = pd.DataFrame(my_json)\n",
    "my_data.info()\n",
    "\n",
    "my_json2 = {'column 1':[1,3,5.5,6.7,7,9.12],'column 2':[5,6,7,8.19,7.17,8],'column 3':[1,4,'1,000',3,4,6]}\n",
    "my_data2 = pd.DataFrame(my_json2)\n",
    "my_data2.info()"
   ]
  },
  {
   "cell_type": "code",
   "execution_count": 22,
   "id": "178e9a67",
   "metadata": {},
   "outputs": [
    {
     "name": "stdout",
     "output_type": "stream",
     "text": [
      "found a string\n",
      "unusual value detected at 2,2: fifty-five\n"
     ]
    }
   ],
   "source": [
    "check_for_unusual_values(my_data)"
   ]
  },
  {
   "cell_type": "code",
   "execution_count": 14,
   "id": "2f6d75be",
   "metadata": {},
   "outputs": [
    {
     "data": {
      "text/plain": [
       "int"
      ]
     },
     "execution_count": 14,
     "metadata": {},
     "output_type": "execute_result"
    }
   ],
   "source": [
    "type(my_data.iloc[0][2])"
   ]
  },
  {
   "cell_type": "code",
   "execution_count": 17,
   "id": "c6c5f9dd",
   "metadata": {},
   "outputs": [
    {
     "name": "stdout",
     "output_type": "stream",
     "text": [
      "True\n"
     ]
    }
   ],
   "source": [
    "column_name = my_data.columns[2]\n",
    "print(my_data[column_name].dtype==object)"
   ]
  },
  {
   "cell_type": "code",
   "execution_count": 24,
   "id": "a564f554",
   "metadata": {},
   "outputs": [
    {
     "name": "stdout",
     "output_type": "stream",
     "text": [
      "column 1\n",
      "column 2\n",
      "column 3\n"
     ]
    }
   ],
   "source": [
    "for name in my_data.columns:\n",
    "    print(name)"
   ]
  },
  {
   "cell_type": "code",
   "execution_count": 25,
   "id": "9f62c674",
   "metadata": {},
   "outputs": [],
   "source": [
    "def check_for_unusual_values2(df):\n",
    "    import re\n",
    "\n",
    "    def contains_non_numeric(string):\n",
    "        pattern = r'[^0-9,.]'\n",
    "        return re.search(pattern, string) is not None\n",
    "       \n",
    "    for column in df.columns:\n",
    "    #Check if column is maybe meant to be quantitative\n",
    "        if df[column].dtype==object:\n",
    "            #Next we need to check if the column is meant to be qauntitative\n",
    "            print(\"found a string\")\n",
    "            #THEN go into for loop going down through all rows in that column\n",
    "            for row in range(0, (df.shape[0])):\n",
    "                try:                   \n",
    "                    if contains_non_numeric(df.iloc[row][column])==True:\n",
    "                #print(\"unusual value detected at \"+str(row)+\",\"+str(column))\n",
    "                        print(f\"unusual value detected at {row},{column}: {df.iloc[row][column]}\")\n",
    "                except Exception:\n",
    "                    pass"
   ]
  },
  {
   "cell_type": "code",
   "execution_count": 26,
   "id": "f58423d1",
   "metadata": {},
   "outputs": [
    {
     "name": "stdout",
     "output_type": "stream",
     "text": [
      "found a string\n",
      "unusual value detected at 2,column 3: fifty-five\n"
     ]
    }
   ],
   "source": [
    "check_for_unusual_values2(my_data)"
   ]
  },
  {
   "cell_type": "code",
   "execution_count": 46,
   "id": "d44d2359",
   "metadata": {},
   "outputs": [
    {
     "name": "stdout",
     "output_type": "stream",
     "text": [
      "   column 1  column 2 column 3\n",
      "0      1.00      5.00        1\n",
      "1      3.00      6.00        4\n",
      "2      5.50      7.00    1,000\n",
      "3      6.70      8.19        3\n",
      "4      7.00      7.17        4\n",
      "5      9.12      8.00        6\n",
      "   column 1  column 2  column 3\n",
      "0      1.00      5.00       NaN\n",
      "1      3.00      6.00       NaN\n",
      "2      5.50      7.00    1000.0\n",
      "3      6.70      8.19       NaN\n",
      "4      7.00      7.17       NaN\n",
      "5      9.12      8.00       NaN\n",
      "<class 'pandas.core.frame.DataFrame'>\n",
      "RangeIndex: 6 entries, 0 to 5\n",
      "Data columns (total 3 columns):\n",
      " #   Column    Non-Null Count  Dtype  \n",
      "---  ------    --------------  -----  \n",
      " 0   column 1  6 non-null      float64\n",
      " 1   column 2  6 non-null      float64\n",
      " 2   column 3  1 non-null      float64\n",
      "dtypes: float64(3)\n",
      "memory usage: 276.0 bytes\n"
     ]
    }
   ],
   "source": [
    "print(my_data2)\n",
    "my_data2['column 3'] = my_data2['column 3'].str.replace(',', '').astype(float)\n",
    "\n",
    "# Display the updated DataFrame\n",
    "print(my_data2)\n",
    "my_data2.info()"
   ]
  },
  {
   "cell_type": "code",
   "execution_count": 43,
   "id": "65b31113",
   "metadata": {},
   "outputs": [
    {
     "name": "stdout",
     "output_type": "stream",
     "text": [
      "   A   B   C\n",
      "0  1  10  12\n",
      "1  2  20  24\n",
      "2  3  30  36\n",
      "3  4  40  48\n",
      "4  5  50  60\n"
     ]
    }
   ],
   "source": [
    "data = {'A': [1, 2, 3, 4, 5], 'B': [10, 20, 30, 40, 50]}\n",
    "df = pd.DataFrame(data)\n",
    "\n",
    "# Define the lambda function to operate on multiple columns\n",
    "function = lambda row: row['A'] * 2 + row['B']\n",
    "\n",
    "# Apply the lambda function to create the new column\n",
    "df['C'] = df.apply(function, axis=1)\n",
    "\n",
    "#Display the updated DataFrame\n",
    "print(df)\n"
   ]
  },
  {
   "cell_type": "code",
   "execution_count": 44,
   "id": "6eccdd7c",
   "metadata": {},
   "outputs": [
    {
     "name": "stdout",
     "output_type": "stream",
     "text": [
      "   A   B     C\n",
      "0  1  10   2.0\n",
      "1  2  20   4.0\n",
      "2  3  30  35.0\n",
      "3  4  40  45.0\n",
      "4  5  50  55.0\n"
     ]
    }
   ],
   "source": [
    "data = {'A': [1, 2, 3, 4, 5], 'B': [10, 20, 30, 40, 50]}\n",
    "df = pd.DataFrame(data)\n",
    "\n",
    "# Define the conditions\n",
    "conditions = [\n",
    "    df['A'] < 3,\n",
    "    df['A'] >= 3\n",
    "]\n",
    "\n",
    "# Define the functions corresponding to each condition\n",
    "def function1(x):\n",
    "    return x * 2\n",
    "\n",
    "def function2(x):\n",
    "    return x + 5\n",
    "\n",
    "# Vectorize the functions\n",
    "vectorized_function1 = np.vectorize(function1)\n",
    "vectorized_function2 = np.vectorize(function2)\n",
    "\n",
    "# Apply the functions based on the conditions and create the new column\n",
    "df['C'] = np.select(conditions, [vectorized_function1(df['A']), vectorized_function2(df['B'])], default=np.nan)\n",
    "\n",
    "# Display the updated DataFrame\n",
    "print(df)\n"
   ]
  },
  {
   "cell_type": "code",
   "execution_count": 45,
   "id": "bed86282",
   "metadata": {},
   "outputs": [
    {
     "name": "stdout",
     "output_type": "stream",
     "text": [
      "   A   B      C\n",
      "0  1  10   12.0\n",
      "1  2  20   24.0\n",
      "2  3  30   63.0\n",
      "3  4  40   84.0\n",
      "4  5  50  105.0\n"
     ]
    }
   ],
   "source": [
    "data = {'A': [1, 2, 3, 4, 5], 'B': [10, 20, 30, 40, 50]}\n",
    "df = pd.DataFrame(data)\n",
    "\n",
    "# Define the conditions\n",
    "conditions = [\n",
    "    df['A'] < 3,\n",
    "    df['A'] >= 3\n",
    "]\n",
    "\n",
    "# Define the functions corresponding to each condition\n",
    "def function1(df):\n",
    "    return df['A'] * 2 + df['B']\n",
    "\n",
    "def function2(df):\n",
    "    return df['A'] + df['B'] * 2\n",
    "\n",
    "# Apply the functions based on the conditions and create the new column\n",
    "df['C'] = np.select(conditions, [function1(df), function2(df)], default=np.nan)\n",
    "\n",
    "# Display the updated DataFrame\n",
    "print(df)\n"
   ]
  },
  {
   "cell_type": "code",
   "execution_count": null,
   "id": "847827d0",
   "metadata": {},
   "outputs": [],
   "source": []
  }
 ],
 "metadata": {
  "kernelspec": {
   "display_name": "Python 3 (ipykernel)",
   "language": "python",
   "name": "python3"
  },
  "language_info": {
   "codemirror_mode": {
    "name": "ipython",
    "version": 3
   },
   "file_extension": ".py",
   "mimetype": "text/x-python",
   "name": "python",
   "nbconvert_exporter": "python",
   "pygments_lexer": "ipython3",
   "version": "3.11.4"
  }
 },
 "nbformat": 4,
 "nbformat_minor": 5
}
