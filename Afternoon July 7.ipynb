{
 "cells": [
  {
   "cell_type": "code",
   "execution_count": 31,
   "id": "3c2fb90e",
   "metadata": {},
   "outputs": [],
   "source": [
    "#We're getting data as some JSON, we've made it a pandas df\n",
    "#could be any number of rows, any number of columns, there's a lack of structure to what we might get\n",
    "#let's say it's a financial setting, we want to check for values that don't belong in a column\n",
    "#we want to check for non-numeric entries\n",
    "#one way to iterate through a dataframe\n",
    "\n",
    "#first establish the first column to iterate through\n",
    "#working_column = 0\n",
    "    #Have for loop that goes through all the columns\n",
    "def check_for_unusual_values(df):\n",
    "    import re\n",
    "\n",
    "    def contains_non_numeric(string):\n",
    "        pattern = r'[^0-9,.]'\n",
    "        return re.search(pattern, string) is not None\n",
    "    \n",
    "    for column in df.columns:\n",
    "    #Check if column is quantitative\n",
    "        if df[column].dtypes == object:\n",
    "    #THEN go into for loop going down through all rows in that column\n",
    "            for row in range(0, (df.shape[0])):\n",
    "      #check for an unusual value that is non-numeric          \n",
    "                #print(type(df.iloc[row][column]) == str)\n",
    "                if (type(df.iloc[row][column]) == str) and (contains_non_numeric(df.iloc[row][column]) == True):\n",
    "                \n",
    "                #print(\"unusual value detected at \"+str(row)+\",\"+str(column))\n",
    "                    print(f\"unusual value detected at {row},{column}:{df.iloc[row][column]}\")"
   ]
  },
  {
   "cell_type": "code",
   "execution_count": 2,
   "id": "5cacfa79",
   "metadata": {},
   "outputs": [],
   "source": [
    "import pandas as pd\n",
    "import numpy as np"
   ]
  },
  {
   "cell_type": "code",
   "execution_count": 3,
   "id": "ed5297ea",
   "metadata": {},
   "outputs": [],
   "source": [
    "df_practice = pd.DataFrame({'column 1': [6.5, 7.8, 9],'column 2':[5,8,10],'column 3':[5,8.2,'fifty-five']})"
   ]
  },
  {
   "cell_type": "code",
   "execution_count": 5,
   "id": "5dcaaf4a",
   "metadata": {},
   "outputs": [
    {
     "name": "stdout",
     "output_type": "stream",
     "text": [
      "column 1\n",
      "column 2\n",
      "column 3\n"
     ]
    }
   ],
   "source": [
    "for column in df_practice.columns:\n",
    "    print(column)"
   ]
  },
  {
   "cell_type": "code",
   "execution_count": 20,
   "id": "474e7c24",
   "metadata": {},
   "outputs": [
    {
     "data": {
      "text/plain": [
       "True"
      ]
     },
     "execution_count": 20,
     "metadata": {},
     "output_type": "execute_result"
    }
   ],
   "source": [
    "df_practice['column 1'].dtypes == float"
   ]
  },
  {
   "cell_type": "code",
   "execution_count": 32,
   "id": "6716253f",
   "metadata": {},
   "outputs": [
    {
     "name": "stdout",
     "output_type": "stream",
     "text": [
      "unusual value detected at 2,column 3:fifty-five\n"
     ]
    }
   ],
   "source": [
    "check_for_unusual_values(df_practice)"
   ]
  },
  {
   "cell_type": "code",
   "execution_count": 61,
   "id": "046ada6b",
   "metadata": {},
   "outputs": [],
   "source": [
    "def check_for_unusual_values(df):\n",
    "    import re\n",
    "\n",
    "    def contains_non_numeric(string):\n",
    "        pattern = r'[^0-9,.]'\n",
    "        return re.search(pattern, string) is not None\n",
    "    \n",
    "    for column in df.columns:\n",
    "    #Check if column is quantitative\n",
    "        if df[column].dtypes == object:\n",
    "            try:\n",
    "                df[column]=df[column].astype('str')\n",
    "                df[column] = df[column].str.replace(',', '').astype(float)\n",
    "            except Exception:\n",
    "                \n",
    "    #THEN go into for loop going down through all rows in that column\n",
    "                for row in range(0, (df.shape[0])):\n",
    "      #check for an unusual value that is non-numeric          \n",
    "                #print(type(df.iloc[row][column]) == str)\n",
    "                    if (type(df.iloc[row][column]) == str) and (contains_non_numeric(df.iloc[row][column]) == True):\n",
    "                \n",
    "                #print(\"unusual value detected at \"+str(row)+\",\"+str(column))\n",
    "                        print(f\"unusual value detected at {row},{column}:{df.iloc[row][column]}\")"
   ]
  },
  {
   "cell_type": "code",
   "execution_count": 62,
   "id": "b43d8743",
   "metadata": {},
   "outputs": [],
   "source": [
    "df_practice2 = pd.DataFrame({'column 1': [6.5, 7.8, 9],'column 2':[5,8,10],'column 3':[5,8.2,'1,000']})"
   ]
  },
  {
   "cell_type": "code",
   "execution_count": 63,
   "id": "597b7966",
   "metadata": {},
   "outputs": [],
   "source": [
    "check_for_unusual_values(df_practice2)"
   ]
  },
  {
   "cell_type": "code",
   "execution_count": 64,
   "id": "24b55e5c",
   "metadata": {},
   "outputs": [
    {
     "data": {
      "text/html": [
       "<div>\n",
       "<style scoped>\n",
       "    .dataframe tbody tr th:only-of-type {\n",
       "        vertical-align: middle;\n",
       "    }\n",
       "\n",
       "    .dataframe tbody tr th {\n",
       "        vertical-align: top;\n",
       "    }\n",
       "\n",
       "    .dataframe thead th {\n",
       "        text-align: right;\n",
       "    }\n",
       "</style>\n",
       "<table border=\"1\" class=\"dataframe\">\n",
       "  <thead>\n",
       "    <tr style=\"text-align: right;\">\n",
       "      <th></th>\n",
       "      <th>column 1</th>\n",
       "      <th>column 2</th>\n",
       "      <th>column 3</th>\n",
       "    </tr>\n",
       "  </thead>\n",
       "  <tbody>\n",
       "    <tr>\n",
       "      <th>0</th>\n",
       "      <td>6.5</td>\n",
       "      <td>5</td>\n",
       "      <td>5.0</td>\n",
       "    </tr>\n",
       "    <tr>\n",
       "      <th>1</th>\n",
       "      <td>7.8</td>\n",
       "      <td>8</td>\n",
       "      <td>8.2</td>\n",
       "    </tr>\n",
       "    <tr>\n",
       "      <th>2</th>\n",
       "      <td>9.0</td>\n",
       "      <td>10</td>\n",
       "      <td>1000.0</td>\n",
       "    </tr>\n",
       "  </tbody>\n",
       "</table>\n",
       "</div>"
      ],
      "text/plain": [
       "   column 1  column 2  column 3\n",
       "0       6.5         5       5.0\n",
       "1       7.8         8       8.2\n",
       "2       9.0        10    1000.0"
      ]
     },
     "execution_count": 64,
     "metadata": {},
     "output_type": "execute_result"
    }
   ],
   "source": [
    "df_practice2.head()"
   ]
  },
  {
   "cell_type": "code",
   "execution_count": 57,
   "id": "8002eaa6",
   "metadata": {},
   "outputs": [],
   "source": [
    "df_practice2['column 3']=df_practice2['column 3'].astype('str')"
   ]
  },
  {
   "cell_type": "code",
   "execution_count": 48,
   "id": "2dd05558",
   "metadata": {},
   "outputs": [
    {
     "data": {
      "text/plain": [
       "str"
      ]
     },
     "execution_count": 48,
     "metadata": {},
     "output_type": "execute_result"
    }
   ],
   "source": [
    "type(df_practice2.iloc[0]['column 3'])"
   ]
  },
  {
   "cell_type": "code",
   "execution_count": 50,
   "id": "b796bd94",
   "metadata": {},
   "outputs": [
    {
     "name": "stdout",
     "output_type": "stream",
     "text": [
      "<class 'pandas.core.frame.DataFrame'>\n",
      "RangeIndex: 3 entries, 0 to 2\n",
      "Data columns (total 3 columns):\n",
      " #   Column    Non-Null Count  Dtype  \n",
      "---  ------    --------------  -----  \n",
      " 0   column 1  3 non-null      float64\n",
      " 1   column 2  3 non-null      int64  \n",
      " 2   column 3  3 non-null      object \n",
      "dtypes: float64(1), int64(1), object(1)\n",
      "memory usage: 204.0+ bytes\n"
     ]
    }
   ],
   "source": [
    "df_practice2.info()"
   ]
  },
  {
   "cell_type": "code",
   "execution_count": 65,
   "id": "9fe312d3",
   "metadata": {},
   "outputs": [
    {
     "name": "stdout",
     "output_type": "stream",
     "text": [
      "unusual value detected at 2,column 3:fifty-five\n"
     ]
    }
   ],
   "source": [
    "check_for_unusual_values(df_practice)"
   ]
  },
  {
   "cell_type": "code",
   "execution_count": 66,
   "id": "12c0991b",
   "metadata": {},
   "outputs": [
    {
     "name": "stdout",
     "output_type": "stream",
     "text": [
      "   A   B   C\n",
      "0  1  10  12\n",
      "1  2  20  24\n",
      "2  3  30  36\n",
      "3  4  40  48\n",
      "4  5  50  60\n"
     ]
    }
   ],
   "source": [
    "data = {'A': [1, 2, 3, 4, 5], 'B': [10, 20, 30, 40, 50]}\n",
    "df = pd.DataFrame(data)\n",
    "\n",
    "# Define the lambda function to operate on multiple columns\n",
    "function = lambda row: row['A'] * 2 + row['B']\n",
    "\n",
    "# Apply the lambda function to create the new column\n",
    "df['C'] = df.apply(function, axis=1)\n",
    "\n",
    "# Display the updated DataFrame\n",
    "print(df)"
   ]
  },
  {
   "cell_type": "code",
   "execution_count": 67,
   "id": "85e41607",
   "metadata": {},
   "outputs": [
    {
     "name": "stdout",
     "output_type": "stream",
     "text": [
      "   A   B   C\n",
      "0  1  10  12\n",
      "1  2  20  24\n",
      "2  3  30  36\n",
      "3  4  40  48\n",
      "4  5  50  60\n"
     ]
    }
   ],
   "source": [
    "data = {'A': [1, 2, 3, 4, 5], 'B': [10, 20, 30, 40, 50]}\n",
    "df = pd.DataFrame(data)\n",
    "\n",
    "# Define the lambda function to operate on multiple columns\n",
    "\n",
    "\n",
    "# Apply the lambda function to create the new column\n",
    "df['C'] = df['A'] * 2 + df['B']\n",
    "\n",
    "# Display the updated DataFrame\n",
    "print(df)"
   ]
  },
  {
   "cell_type": "code",
   "execution_count": 68,
   "id": "a419478d",
   "metadata": {},
   "outputs": [
    {
     "name": "stdout",
     "output_type": "stream",
     "text": [
      "   A   B     C\n",
      "0  1  10   2.0\n",
      "1  2  20   4.0\n",
      "2  3  30  35.0\n",
      "3  4  40  45.0\n",
      "4  5  50  55.0\n"
     ]
    }
   ],
   "source": [
    "data = {'A': [1, 2, 3, 4, 5], 'B': [10, 20, 30, 40, 50]}\n",
    "df = pd.DataFrame(data)\n",
    "\n",
    "# Define the conditions\n",
    "conditions = [\n",
    "    df['A'] < 3,\n",
    "    df['A'] >= 3, \n",
    "]\n",
    "\n",
    "# Define the functions corresponding to each condition\n",
    "def function1(x):\n",
    "    return x * 2\n",
    "\n",
    "def function2(x):\n",
    "    return x + 5\n",
    "\n",
    "# Vectorize the functions\n",
    "vectorized_function1 = np.vectorize(function1)\n",
    "vectorized_function2 = np.vectorize(function2)\n",
    "\n",
    "# Apply the functions based on the conditions and create the new column\n",
    "df['C'] = np.select(conditions, [vectorized_function1(df['A']), vectorized_function2(df['B'])], default=np.nan)\n",
    "\n",
    "# Display the updated DataFrame\n",
    "print(df)\n"
   ]
  },
  {
   "cell_type": "code",
   "execution_count": 69,
   "id": "d479136b",
   "metadata": {},
   "outputs": [
    {
     "name": "stdout",
     "output_type": "stream",
     "text": [
      "   A   B      C\n",
      "0  1  10   12.0\n",
      "1  2  20   24.0\n",
      "2  3  30   63.0\n",
      "3  4  40   84.0\n",
      "4  5  50  105.0\n"
     ]
    }
   ],
   "source": [
    "data = {'A': [1, 2, 3, 4, 5], 'B': [10, 20, 30, 40, 50]}\n",
    "df = pd.DataFrame(data)\n",
    "df\n",
    "# Define the conditions\n",
    "conditions = [\n",
    "    df['A'] < 3,\n",
    "    df['A'] >= 3\n",
    "]\n",
    "\n",
    "# Define the functions corresponding to each condition\n",
    "def function1(df):\n",
    "    return df['A'] * 2 + df['B']\n",
    "\n",
    "def function2(df):\n",
    "    return df['A'] + df['B'] * 2\n",
    "\n",
    "# Apply the functions based on the conditions and create the new column\n",
    "df['C'] = np.select(conditions, [function1(df), function2(df)], default=np.nan)\n",
    "\n",
    "# Display the updated DataFrame\n",
    "print(df)\n"
   ]
  },
  {
   "cell_type": "code",
   "execution_count": null,
   "id": "6dc8f1ba",
   "metadata": {},
   "outputs": [],
   "source": []
  }
 ],
 "metadata": {
  "kernelspec": {
   "display_name": "Python 3 (ipykernel)",
   "language": "python",
   "name": "python3"
  },
  "language_info": {
   "codemirror_mode": {
    "name": "ipython",
    "version": 3
   },
   "file_extension": ".py",
   "mimetype": "text/x-python",
   "name": "python",
   "nbconvert_exporter": "python",
   "pygments_lexer": "ipython3",
   "version": "3.11.4"
  }
 },
 "nbformat": 4,
 "nbformat_minor": 5
}
